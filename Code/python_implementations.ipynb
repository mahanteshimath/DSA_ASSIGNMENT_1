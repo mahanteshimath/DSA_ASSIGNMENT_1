{
 "cells": [
  {
   "cell_type": "markdown",
   "metadata": {},
   "source": [
    "## Let A[1 : n] be an array of n distinct numbers. If i < j and A[i] > A[j], then the pair (i, j) is called an inversion of A.Give an O(n log n)-time algorithm that determines the number of inversions in A.\n"
   ]
  },
  {
   "cell_type": "code",
   "execution_count": 1,
   "metadata": {},
   "outputs": [
    {
     "name": "stdout",
     "output_type": "stream",
     "text": [
      "Number of inversions: 6\n"
     ]
    }
   ],
   "source": [
    "def count_inversions(arr):\n",
    "    def merge_and_count(arr, temp, left, mid, right):\n",
    "        i, j, k = left, mid + 1, left\n",
    "        inv_count = 0\n",
    "\n",
    "        while i <= mid and j <= right:\n",
    "            if arr[i] <= arr[j]:  \n",
    "                temp[k] = arr[i]\n",
    "                i += 1\n",
    "            else:\n",
    "                temp[k] = arr[j]\n",
    "                inv_count += (mid - i + 1)  # Count inversions\n",
    "                j += 1\n",
    "            k += 1\n",
    "\n",
    "        while i <= mid:\n",
    "            temp[k] = arr[i]\n",
    "            i += 1\n",
    "            k += 1\n",
    "\n",
    "        while j <= right:\n",
    "            temp[k] = arr[j]\n",
    "            j += 1\n",
    "            k += 1\n",
    "\n",
    "        for i in range(left, right + 1):\n",
    "            arr[i] = temp[i]\n",
    "\n",
    "        return inv_count\n",
    "\n",
    "    def merge_sort_and_count(arr, temp, left, right):\n",
    "        inv_count = 0\n",
    "        if left < right:\n",
    "            mid = (left + right) // 2\n",
    "\n",
    "            inv_count += merge_sort_and_count(arr, temp, left, mid)\n",
    "            inv_count += merge_sort_and_count(arr, temp, mid + 1, right)\n",
    "            inv_count += merge_and_count(arr, temp, left, mid, right)\n",
    "\n",
    "        return inv_count\n",
    "\n",
    "    n = len(arr)\n",
    "    temp = [0] * n\n",
    "    return merge_sort_and_count(arr, temp, 0, n - 1)\n",
    "\n",
    "arr = [8, 4, 2, 1]\n",
    "print(\"Number of inversions:\", count_inversions(arr))\n",
    "\n"
   ]
  },
  {
   "cell_type": "markdown",
   "metadata": {},
   "source": [
    "# 3. Suppose you are given a permutation p of the integers 1 to n, and seek to sort them to be in increasing order  [1, ..., n]. The only operation at your disposal is reverse(p, i, j), which reverses the elements of a subsequence pᵢ, ..., pⱼ in the permutation.For the permutation [1,4,3,2,5], one reversal (of the second through fourth elements) suffices to sort.Suppose that the cost of reverse(p, i, j) is equal to its length, the number of elements in the range, |j - i| + 1.Design an algorithm that sorts in O(n log² n) cost."
   ]
  },
  {
   "cell_type": "code",
   "execution_count": 4,
   "metadata": {},
   "outputs": [
    {
     "name": "stdout",
     "output_type": "stream",
     "text": [
      "Original array: [1, 4, 2, 3, 5]\n",
      "Sorted array: [1, 2, 3, 4, 5]\n"
     ]
    }
   ],
   "source": [
    "def reverse(arr, i, j):\n",
    "    \"\"\"Reverses the subarray arr[i:j+1]\"\"\"\n",
    "    while i < j:\n",
    "        arr[i], arr[j] = arr[j], arr[i]\n",
    "        i += 1\n",
    "        j -= 1\n",
    "\n",
    "def find_misplaced_segment(arr, left, mid, right):\n",
    "    \"\"\"Finds the misplaced segment that needs to be reversed\"\"\"\n",
    "    \n",
    "    # Find the first misplaced element from the right half\n",
    "    i = mid + 1\n",
    "    while i <= right and arr[i] >= arr[i - 1]:  \n",
    "        i += 1\n",
    "    \n",
    "    # If right half is already sorted, no need for reversal\n",
    "    if i > right:\n",
    "        return -1, -1  \n",
    "\n",
    "    # Find the last misplaced element in the left half\n",
    "    j = mid\n",
    "    while j >= left and arr[j] > arr[i]:\n",
    "        j -= 1\n",
    "\n",
    "    return j + 1, i  # Adjust indices correctly\n",
    "\n",
    "def merge_with_reversal(arr, left, mid, right):\n",
    "    \"\"\"Merges two halves using an optimal reversal if needed\"\"\"\n",
    "    i, j = find_misplaced_segment(arr, left, mid, right)\n",
    "\n",
    "    if i != -1 and j != -1:\n",
    "        reverse(arr, i, j)  # Apply reversal\n",
    "\n",
    "def reverse_sort(arr, left, right):\n",
    "    \"\"\"Recursively sorts the array using reverse and merge\"\"\"\n",
    "    if left >= right:\n",
    "        return\n",
    "\n",
    "    mid = (left + right) // 2\n",
    "    \n",
    "    # Recursively sort the left half\n",
    "    reverse_sort(arr, left, mid)\n",
    "    \n",
    "    # Recursively sort the right half\n",
    "    reverse_sort(arr, mid + 1, right)\n",
    "\n",
    "    # Merge the two halves using optimal reversals\n",
    "    merge_with_reversal(arr, left, mid, right)\n",
    "\n",
    "def sort_using_reversals(arr):\n",
    "    \"\"\"Driver function to sort using only reversals\"\"\"\n",
    "    reverse_sort(arr, 0, len(arr) - 1)\n",
    "\n",
    "# Example usage\n",
    "arr = [1, 4, 2, 3, 5]\n",
    "print(\"Original array:\", arr)\n",
    "sort_using_reversals(arr)\n",
    "print(\"Sorted array:\", arr)\n"
   ]
  }
 ],
 "metadata": {
  "kernelspec": {
   "display_name": "Python 3",
   "language": "python",
   "name": "python3"
  },
  "language_info": {
   "codemirror_mode": {
    "name": "ipython",
    "version": 3
   },
   "file_extension": ".py",
   "mimetype": "text/x-python",
   "name": "python",
   "nbconvert_exporter": "python",
   "pygments_lexer": "ipython3",
   "version": "3.12.1"
  }
 },
 "nbformat": 4,
 "nbformat_minor": 2
}
