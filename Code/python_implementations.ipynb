{
 "cells": [
  {
   "cell_type": "code",
   "execution_count": null,
   "metadata": {
    "vscode": {
     "languageId": "plaintext"
    }
   },
   "outputs": [],
   "source": [
    "## Let A[1 : n] be an array of n distinct numbers. If i < j and A[i] > A[j], then the pair (i, j) is called an inversion of A.\n",
    "\n",
    "Give an O(n log n)-time algorithm that determines the number of inversions in A.\n"
   ]
  },
  {
   "cell_type": "markdown",
   "metadata": {},
   "source": [
    "def count_inversions(arr):\n",
    "    def merge_and_count(arr, temp, left, mid, right):\n",
    "        i, j, k = left, mid + 1, left\n",
    "        inv_count = 0\n",
    "\n",
    "        while i <= mid and j <= right:\n",
    "            if arr[i] <= arr[j]:  \n",
    "                temp[k] = arr[i]\n",
    "                i += 1\n",
    "            else:\n",
    "                temp[k] = arr[j]\n",
    "                inv_count += (mid - i + 1)  # Count inversions\n",
    "                j += 1\n",
    "            k += 1\n",
    "\n",
    "        while i <= mid:\n",
    "            temp[k] = arr[i]\n",
    "            i += 1\n",
    "            k += 1\n",
    "\n",
    "        while j <= right:\n",
    "            temp[k] = arr[j]\n",
    "            j += 1\n",
    "            k += 1\n",
    "\n",
    "        for i in range(left, right + 1):\n",
    "            arr[i] = temp[i]\n",
    "\n",
    "        return inv_count\n",
    "\n",
    "    def merge_sort_and_count(arr, temp, left, right):\n",
    "        inv_count = 0\n",
    "        if left < right:\n",
    "            mid = (left + right) // 2\n",
    "\n",
    "            inv_count += merge_sort_and_count(arr, temp, left, mid)\n",
    "            inv_count += merge_sort_and_count(arr, temp, mid + 1, right)\n",
    "            inv_count += merge_and_count(arr, temp, left, mid, right)\n",
    "\n",
    "        return inv_count\n",
    "\n",
    "    n = len(arr)\n",
    "    temp = [0] * n\n",
    "    return merge_sort_and_count(arr, temp, 0, n - 1)\n",
    "\n",
    "# Example Usage\n",
    "arr = [8, 4, 2, 1]\n",
    "print(\"Number of inversions:\", count_inversions(arr))\n",
    "\n"
   ]
  }
 ],
 "metadata": {
  "language_info": {
   "name": "python"
  }
 },
 "nbformat": 4,
 "nbformat_minor": 2
}
